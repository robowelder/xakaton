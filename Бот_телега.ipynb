{
 "cells": [
  {
   "cell_type": "code",
   "execution_count": null,
   "metadata": {
    "id": "99Dd0eDEuXS4"
   },
   "outputs": [],
   "source": [
    "import matplotlib"
   ]
  },
  {
   "cell_type": "code",
   "execution_count": null,
   "metadata": {
    "colab": {
     "base_uri": "https://localhost:8080/",
     "height": 790
    },
    "id": "9bXLaXhxvDFr",
    "outputId": "e10cb1f7-6eb7-4336-a04a-6529cb9477c8"
   },
   "outputs": [
    {
     "name": "stdout",
     "output_type": "stream",
     "text": [
      "Collecting python-telegram-bot==13.15\n",
      "  Downloading python_telegram_bot-13.15-py3-none-any.whl (519 kB)\n",
      "\u001b[2K     \u001b[90m━━━━━━━━━━━━━━━━━━━━━━━━━━━━━━━━━━━━━━━━\u001b[0m \u001b[32m519.2/519.2 kB\u001b[0m \u001b[31m7.6 MB/s\u001b[0m eta \u001b[36m0:00:00\u001b[0ma \u001b[36m0:00:01\u001b[0m\n",
      "\u001b[?25hRequirement already satisfied: certifi in /usr/local/lib/python3.10/dist-packages (from python-telegram-bot==13.15) (2024.6.2)\n",
      "Collecting tornado==6.1 (from python-telegram-bot==13.15)\n",
      "  Downloading tornado-6.1.tar.gz (497 kB)\n",
      "\u001b[2K     \u001b[90m━━━━━━━━━━━━━━━━━━━━━━━━━━━━━━━━━━━━━━━━\u001b[0m \u001b[32m497.4/497.4 kB\u001b[0m \u001b[31m11.9 MB/s\u001b[0m eta \u001b[36m0:00:00\u001b[0m\n",
      "\u001b[?25h  Preparing metadata (setup.py) ... \u001b[?25l\u001b[?25hdone\n",
      "Collecting APScheduler==3.6.3 (from python-telegram-bot==13.15)\n",
      "  Downloading APScheduler-3.6.3-py2.py3-none-any.whl (58 kB)\n",
      "\u001b[2K     \u001b[90m━━━━━━━━━━━━━━━━━━━━━━━━━━━━━━━━━━━━━━━━\u001b[0m \u001b[32m58.9/58.9 kB\u001b[0m \u001b[31m6.9 MB/s\u001b[0m eta \u001b[36m0:00:00\u001b[0m\n",
      "\u001b[?25hRequirement already satisfied: pytz>=2018.6 in /usr/local/lib/python3.10/dist-packages (from python-telegram-bot==13.15) (2023.4)\n",
      "Collecting cachetools==4.2.2 (from python-telegram-bot==13.15)\n",
      "  Downloading cachetools-4.2.2-py3-none-any.whl (11 kB)\n",
      "Requirement already satisfied: setuptools>=0.7 in /usr/local/lib/python3.10/dist-packages (from APScheduler==3.6.3->python-telegram-bot==13.15) (67.7.2)\n",
      "Requirement already satisfied: six>=1.4.0 in /usr/local/lib/python3.10/dist-packages (from APScheduler==3.6.3->python-telegram-bot==13.15) (1.16.0)\n",
      "Requirement already satisfied: tzlocal>=1.2 in /usr/local/lib/python3.10/dist-packages (from APScheduler==3.6.3->python-telegram-bot==13.15) (5.2)\n",
      "Building wheels for collected packages: tornado\n",
      "  Building wheel for tornado (setup.py) ... \u001b[?25l\u001b[?25hdone\n",
      "  Created wheel for tornado: filename=tornado-6.1-cp310-cp310-linux_x86_64.whl size=421979 sha256=c2c46ee56dfe61e104ecffcdb889ee0e6aae5b239e7ef3920b46a298e4cd2f8b\n",
      "  Stored in directory: /root/.cache/pip/wheels/80/32/8d/21cf0fa6ee4e083f6530e5b83dfdfa9489a3890d320803f4c7\n",
      "Successfully built tornado\n",
      "Installing collected packages: tornado, cachetools, APScheduler, python-telegram-bot\n",
      "  Attempting uninstall: tornado\n",
      "    Found existing installation: tornado 6.3.3\n",
      "    Uninstalling tornado-6.3.3:\n",
      "      Successfully uninstalled tornado-6.3.3\n",
      "  Attempting uninstall: cachetools\n",
      "    Found existing installation: cachetools 5.3.3\n",
      "    Uninstalling cachetools-5.3.3:\n",
      "      Successfully uninstalled cachetools-5.3.3\n",
      "\u001b[31mERROR: pip's dependency resolver does not currently take into account all the packages that are installed. This behaviour is the source of the following dependency conflicts.\n",
      "google-colab 1.0.0 requires tornado==6.3.3, but you have tornado 6.1 which is incompatible.\u001b[0m\u001b[31m\n",
      "\u001b[0mSuccessfully installed APScheduler-3.6.3 cachetools-4.2.2 python-telegram-bot-13.15 tornado-6.1\n"
     ]
    },
    {
     "data": {
      "application/vnd.colab-display-data+json": {
       "id": "1179bacd7809420b86f33b51b4bc3927",
       "pip_warning": {
        "packages": [
         "tornado"
        ]
       }
      }
     },
     "metadata": {},
     "output_type": "display_data"
    }
   ],
   "source": [
    "!pip install python-telegram-bot==13.15"
   ]
  },
  {
   "cell_type": "code",
   "execution_count": null,
   "metadata": {
    "id": "MDPG4un1vKxO"
   },
   "outputs": [],
   "source": [
    "import telegram\n",
    "from telegram.ext import Updater, Filters, CommandHandler, MessageHandler\n",
    "import cv2\n",
    "import numpy as np"
   ]
  },
  {
   "cell_type": "code",
   "execution_count": null,
   "metadata": {
    "id": "2on4dsvxXYW8"
   },
   "outputs": [],
   "source": [
    "from ultralytics import YOLOv10"
   ]
  },
  {
   "cell_type": "code",
   "execution_count": null,
   "metadata": {
    "id": "PGWwW0fSYGDQ"
   },
   "outputs": [],
   "source": [
    "model = YOLOv10('/content/drive/MyDrive/weld/best.pt')\n"
   ]
  },
  {
   "cell_type": "code",
   "execution_count": null,
   "metadata": {
    "id": "2JiIlVcOvXVo"
   },
   "outputs": [],
   "source": [
    "def start(updater, context):\n",
    "    updater.message.reply_text(\"Привет ! \\n Отправь фото сварного шва\\ud83d\\udd2e\")"
   ]
  },
  {
   "cell_type": "code",
   "execution_count": null,
   "metadata": {
    "id": "pGYBj9FBvXYQ"
   },
   "outputs": [],
   "source": [
    "def help_(updater, context):\n",
    "    updater.message.reply_text(\"Ничем не могу помочь \\ud83d\\udd2e\")"
   ]
  },
  {
   "cell_type": "code",
   "execution_count": null,
   "metadata": {
    "id": "UXh-brWCvXa4"
   },
   "outputs": [],
   "source": [
    "def message(updater, context):\n",
    "    updater.message.reply_text('Dont write anything  \\n Just send a picture \\ud83d\\udc41 \\ud83d\\udc41')"
   ]
  },
  {
   "cell_type": "code",
   "execution_count": null,
   "metadata": {
    "id": "POJxu10Wo0Ow"
   },
   "outputs": [],
   "source": [
    "from IPython.display import Image"
   ]
  },
  {
   "cell_type": "code",
   "execution_count": null,
   "metadata": {
    "id": "cd54YsxuvXdg"
   },
   "outputs": [],
   "source": [
    "def image(updater, context):\n",
    "    photo = updater.message.photo[-1].get_file()\n",
    "    photo.download(\"img.jpg\")\n",
    "    model.predict(source= \"img.jpg\" ,save_txt=True ,save=True,exist_ok=True)\n",
    "    # sending prediction to user\n",
    "bot = telegram.Bot(token='6775806362:AAF6kkrbwpJPb0Xz3ypmSWytuLSgfA10qsA')\n",
    "def send_image(updater, context):\n",
    "    photo = updater.message.photo[-1].get_file()\n",
    "    photo.download(\"img.jpg\")\n",
    "    model.predict(source= \"img.jpg\" ,save_txt=True ,save=True,exist_ok=True)\n",
    "    chat_id = updater.message.chat_id\n",
    "    # Replace image_path with the path to your image\n",
    "    photo = open('/content/runs/detect/predict/img.jpg', 'rb')\n",
    "    bot.send_photo(chat_id=chat_id, photo=photo)"
   ]
  },
  {
   "cell_type": "code",
   "execution_count": null,
   "metadata": {
    "id": "s5cdwapvvXgP"
   },
   "outputs": [],
   "source": [
    "updater = Updater('6775806362:AAF6kkrbwpJPb0Xz3ypmSWytuLSgfA10qsA')\n",
    "dispatcher = updater.dispatcher"
   ]
  },
  {
   "cell_type": "code",
   "execution_count": null,
   "metadata": {
    "id": "NZFgXAfQvXi4"
   },
   "outputs": [],
   "source": [
    "# Handlers\n",
    "dispatcher.add_handler(CommandHandler('start', start))\n",
    "dispatcher.add_handler(CommandHandler('help', help_))\n",
    "dispatcher.add_handler(MessageHandler(Filters.text, message))\n",
    "dispatcher.add_handler(MessageHandler(Filters.photo, send_image))\n",
    "dispatcher.add_handler(CommandHandler('send_image', send_image))"
   ]
  },
  {
   "cell_type": "code",
   "execution_count": null,
   "metadata": {
    "colab": {
     "background_save": true,
     "base_uri": "https://localhost:8080/"
    },
    "id": "neL_-32MvXlI",
    "outputId": "9125f905-4099-45ef-8d3a-2b19c9486e51"
   },
   "outputs": [
    {
     "name": "stdout",
     "output_type": "stream",
     "text": [
      "\n",
      "image 1/1 /content/img.jpg: 384x640 2 Workpieces, 309.8ms\n",
      "Speed: 18.4ms preprocess, 309.8ms inference, 32.7ms postprocess per image at shape (1, 3, 384, 640)\n",
      "Results saved to \u001b[1mruns/detect/predict\u001b[0m\n",
      "1 label saved to runs/detect/predict/labels\n",
      "\n",
      "image 1/1 /content/img.jpg: 640x384 1 Workpiece, 264.6ms\n",
      "Speed: 6.1ms preprocess, 264.6ms inference, 1.9ms postprocess per image at shape (1, 3, 640, 384)\n",
      "Results saved to \u001b[1mruns/detect/predict\u001b[0m\n",
      "1 label saved to runs/detect/predict/labels\n"
     ]
    },
    {
     "name": "stderr",
     "output_type": "stream",
     "text": [
      "ERROR:telegram.ext.dispatcher:No error handlers are registered, logging exception.\n",
      "Traceback (most recent call last):\n",
      "  File \"/usr/local/lib/python3.10/dist-packages/telegram/vendor/ptb_urllib3/urllib3/connectionpool.py\", line 402, in _make_request\n",
      "    six.raise_from(e, None)\n",
      "  File \"<string>\", line 2, in raise_from\n",
      "  File \"/usr/local/lib/python3.10/dist-packages/telegram/vendor/ptb_urllib3/urllib3/connectionpool.py\", line 398, in _make_request\n",
      "    httplib_response = conn.getresponse()\n",
      "  File \"/usr/lib/python3.10/http/client.py\", line 1375, in getresponse\n",
      "    response.begin()\n",
      "  File \"/usr/lib/python3.10/http/client.py\", line 318, in begin\n",
      "    version, status, reason = self._read_status()\n",
      "  File \"/usr/lib/python3.10/http/client.py\", line 279, in _read_status\n",
      "    line = str(self.fp.readline(_MAXLINE + 1), \"iso-8859-1\")\n",
      "  File \"/usr/lib/python3.10/socket.py\", line 705, in readinto\n",
      "    return self._sock.recv_into(b)\n",
      "  File \"/usr/lib/python3.10/ssl.py\", line 1303, in recv_into\n",
      "    return self.read(nbytes, buffer)\n",
      "  File \"/usr/lib/python3.10/ssl.py\", line 1159, in read\n",
      "    return self._sslobj.read(len, buffer)\n",
      "TimeoutError: The read operation timed out\n",
      "\n",
      "During handling of the above exception, another exception occurred:\n",
      "\n",
      "Traceback (most recent call last):\n",
      "  File \"/usr/local/lib/python3.10/dist-packages/telegram/utils/request.py\", line 259, in _request_wrapper\n",
      "    resp = self._con_pool.request(*args, **kwargs)\n",
      "  File \"/usr/local/lib/python3.10/dist-packages/telegram/vendor/ptb_urllib3/urllib3/request.py\", line 68, in request\n",
      "    return self.request_encode_body(method, url, fields=fields,\n",
      "  File \"/usr/local/lib/python3.10/dist-packages/telegram/vendor/ptb_urllib3/urllib3/request.py\", line 148, in request_encode_body\n",
      "    return self.urlopen(method, url, **extra_kw)\n",
      "  File \"/usr/local/lib/python3.10/dist-packages/telegram/vendor/ptb_urllib3/urllib3/poolmanager.py\", line 244, in urlopen\n",
      "    response = conn.urlopen(method, u.request_uri, **kw)\n",
      "  File \"/usr/local/lib/python3.10/dist-packages/telegram/vendor/ptb_urllib3/urllib3/connectionpool.py\", line 665, in urlopen\n",
      "    retries = retries.increment(method, url, error=e, _pool=self,\n",
      "  File \"/usr/local/lib/python3.10/dist-packages/telegram/vendor/ptb_urllib3/urllib3/util/retry.py\", line 347, in increment\n",
      "    raise six.reraise(type(error), error, _stacktrace)\n",
      "  File \"/usr/local/lib/python3.10/dist-packages/telegram/vendor/ptb_urllib3/urllib3/packages/six.py\", line 686, in reraise\n",
      "    raise value\n",
      "  File \"/usr/local/lib/python3.10/dist-packages/telegram/vendor/ptb_urllib3/urllib3/connectionpool.py\", line 614, in urlopen\n",
      "    httplib_response = self._make_request(conn, method, url,\n",
      "  File \"/usr/local/lib/python3.10/dist-packages/telegram/vendor/ptb_urllib3/urllib3/connectionpool.py\", line 404, in _make_request\n",
      "    self._raise_timeout(err=e, url=url, timeout_value=read_timeout,\n",
      "  File \"/usr/local/lib/python3.10/dist-packages/telegram/vendor/ptb_urllib3/urllib3/connectionpool.py\", line 321, in _raise_timeout\n",
      "    raise exc_cls(*args)\n",
      "telegram.vendor.ptb_urllib3.urllib3.exceptions.ReadTimeoutError: HTTPSConnectionPool(host='api.telegram.org', port=443): Read timed out. (read timeout=5.0)\n",
      "\n",
      "The above exception was the direct cause of the following exception:\n",
      "\n",
      "Traceback (most recent call last):\n",
      "  File \"/usr/local/lib/python3.10/dist-packages/telegram/ext/dispatcher.py\", line 557, in process_update\n",
      "    handler.handle_update(update, self, check, context)\n",
      "  File \"/usr/local/lib/python3.10/dist-packages/telegram/ext/handler.py\", line 199, in handle_update\n",
      "    return self.callback(update, context)\n",
      "  File \"<ipython-input-10-bfe854f06920>\", line 8, in send_image\n",
      "    photo = updater.message.photo[-1].get_file()\n",
      "  File \"/usr/local/lib/python3.10/dist-packages/telegram/files/photosize.py\", line 98, in get_file\n",
      "    return self.bot.get_file(file_id=self.file_id, timeout=timeout, api_kwargs=api_kwargs)\n",
      "  File \"/usr/local/lib/python3.10/dist-packages/telegram/bot.py\", line 134, in decorator\n",
      "    result = func(*args, **kwargs)\n",
      "  File \"/usr/local/lib/python3.10/dist-packages/telegram/bot.py\", line 2510, in get_file\n",
      "    result = self._post('getFile', data, timeout=timeout, api_kwargs=api_kwargs)\n",
      "  File \"/usr/local/lib/python3.10/dist-packages/telegram/bot.py\", line 299, in _post\n",
      "    return self.request.post(\n",
      "  File \"/usr/local/lib/python3.10/dist-packages/telegram/utils/request.py\", line 361, in post\n",
      "    result = self._request_wrapper(\n",
      "  File \"/usr/local/lib/python3.10/dist-packages/telegram/utils/request.py\", line 261, in _request_wrapper\n",
      "    raise TimedOut() from error\n",
      "telegram.error.TimedOut: Timed out\n"
     ]
    },
    {
     "name": "stdout",
     "output_type": "stream",
     "text": [
      "\n",
      "image 1/1 /content/img.jpg: 640x384 1 Defect, 1 Welding Line, 206.5ms\n",
      "Speed: 3.8ms preprocess, 206.5ms inference, 1.2ms postprocess per image at shape (1, 3, 640, 384)\n",
      "Results saved to \u001b[1mruns/detect/predict\u001b[0m\n",
      "1 label saved to runs/detect/predict/labels\n",
      "\n",
      "image 1/1 /content/img.jpg: 640x384 1 Workpiece, 163.5ms\n",
      "Speed: 3.2ms preprocess, 163.5ms inference, 1.1ms postprocess per image at shape (1, 3, 640, 384)\n",
      "Results saved to \u001b[1mruns/detect/predict\u001b[0m\n",
      "1 label saved to runs/detect/predict/labels\n",
      "\n",
      "image 1/1 /content/img.jpg: 640x384 1 Defect, 1 Welding Line, 1 Workpiece, 242.5ms\n",
      "Speed: 5.3ms preprocess, 242.5ms inference, 5.6ms postprocess per image at shape (1, 3, 640, 384)\n",
      "Results saved to \u001b[1mruns/detect/predict\u001b[0m\n",
      "1 label saved to runs/detect/predict/labels\n"
     ]
    }
   ],
   "source": [
    "updater.start_polling()\n",
    "updater.idle()\n"
   ]
  }
 ],
 "metadata": {
  "colab": {
   "provenance": []
  },
  "kernelspec": {
   "display_name": "DataSphere Kernel",
   "language": "python",
   "name": "python3"
  },
  "language_info": {
   "codemirror_mode": {
    "name": "ipython",
    "version": 3
   },
   "file_extension": ".py",
   "mimetype": "text/x-python",
   "name": "python",
   "nbconvert_exporter": "python",
   "pygments_lexer": "ipython3",
   "version": "3.10.12"
  }
 },
 "nbformat": 4,
 "nbformat_minor": 4
}
