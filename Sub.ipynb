{
 "cells": [
  {
   "cell_type": "code",
   "execution_count": 1,
   "id": "84ee176d-f57f-4b9b-ae47-3802b849e334",
   "metadata": {},
   "outputs": [],
   "source": [
    "import glob\n",
    "import cv2\n",
    "import ultralytics\n",
    "from ultralytics import YOLOv10\n",
    "import numpy as np"
   ]
  },
  {
   "cell_type": "code",
   "execution_count": 2,
   "id": "0a07ed07-5869-453b-9f3c-c30aaca586fa",
   "metadata": {},
   "outputs": [],
   "source": [
    "yolov_model1 = YOLOv10(\"http://localhost:8888/edit/Desktop/home/best.pt\")\n",
    "yolov_model2 = YOLOv10(\"http://localhost:8888/edit/Desktop/home/best2.pt\")"
   ]
  },
  {
   "cell_type": "code",
   "execution_count": 6,
   "id": "8790dcda",
   "metadata": {},
   "outputs": [],
   "source": [
    "path = 'http://localhost:8888/view/Desktop/home/data/dataset/1%20(1).jpg'"
   ]
  },
  {
   "cell_type": "code",
   "execution_count": 7,
   "id": "1b5c13ea-1eea-4227-a161-9c10c0930eef",
   "metadata": {},
   "outputs": [
    {
     "ename": "NotImplementedError",
     "evalue": "WARNING  'YOLOv10' model does not support 'predict' mode for 'None' task yet.",
     "output_type": "error",
     "traceback": [
      "\u001b[1;31m---------------------------------------------------------------------------\u001b[0m",
      "\u001b[1;31mKeyError\u001b[0m                                  Traceback (most recent call last)",
      "\u001b[1;32m~\\anaconda3\\lib\\site-packages\\ultralytics\\engine\\model.py\u001b[0m in \u001b[0;36m_smart_load\u001b[1;34m(self, key)\u001b[0m\n\u001b[0;32m    806\u001b[0m         \u001b[1;32mtry\u001b[0m\u001b[1;33m:\u001b[0m\u001b[1;33m\u001b[0m\u001b[1;33m\u001b[0m\u001b[0m\n\u001b[1;32m--> 807\u001b[1;33m             \u001b[1;32mreturn\u001b[0m \u001b[0mself\u001b[0m\u001b[1;33m.\u001b[0m\u001b[0mtask_map\u001b[0m\u001b[1;33m[\u001b[0m\u001b[0mself\u001b[0m\u001b[1;33m.\u001b[0m\u001b[0mtask\u001b[0m\u001b[1;33m]\u001b[0m\u001b[1;33m[\u001b[0m\u001b[0mkey\u001b[0m\u001b[1;33m]\u001b[0m\u001b[1;33m\u001b[0m\u001b[1;33m\u001b[0m\u001b[0m\n\u001b[0m\u001b[0;32m    808\u001b[0m         \u001b[1;32mexcept\u001b[0m \u001b[0mException\u001b[0m \u001b[1;32mas\u001b[0m \u001b[0me\u001b[0m\u001b[1;33m:\u001b[0m\u001b[1;33m\u001b[0m\u001b[1;33m\u001b[0m\u001b[0m\n",
      "\u001b[1;31mKeyError\u001b[0m: None",
      "\nThe above exception was the direct cause of the following exception:\n",
      "\u001b[1;31mNotImplementedError\u001b[0m                       Traceback (most recent call last)",
      "\u001b[1;32m~\\AppData\\Local\\Temp\\ipykernel_8672\\1825577625.py\u001b[0m in \u001b[0;36m<module>\u001b[1;34m\u001b[0m\n\u001b[1;32m----> 1\u001b[1;33m \u001b[0myolov_model1\u001b[0m\u001b[1;33m.\u001b[0m\u001b[0mpredict\u001b[0m\u001b[1;33m(\u001b[0m\u001b[0msource\u001b[0m\u001b[1;33m=\u001b[0m \u001b[0mpath\u001b[0m \u001b[1;33m,\u001b[0m\u001b[0msave_txt\u001b[0m\u001b[1;33m=\u001b[0m\u001b[1;32mTrue\u001b[0m \u001b[1;33m,\u001b[0m\u001b[0msave\u001b[0m\u001b[1;33m=\u001b[0m\u001b[1;32mTrue\u001b[0m\u001b[1;33m,\u001b[0m\u001b[0mexist_ok\u001b[0m\u001b[1;33m=\u001b[0m\u001b[1;32mTrue\u001b[0m\u001b[1;33m)\u001b[0m\u001b[1;33m\u001b[0m\u001b[1;33m\u001b[0m\u001b[0m\n\u001b[0m",
      "\u001b[1;32m~\\anaconda3\\lib\\site-packages\\ultralytics\\engine\\model.py\u001b[0m in \u001b[0;36mpredict\u001b[1;34m(self, source, stream, predictor, **kwargs)\u001b[0m\n\u001b[0;32m    431\u001b[0m \u001b[1;33m\u001b[0m\u001b[0m\n\u001b[0;32m    432\u001b[0m         \u001b[1;32mif\u001b[0m \u001b[1;32mnot\u001b[0m \u001b[0mself\u001b[0m\u001b[1;33m.\u001b[0m\u001b[0mpredictor\u001b[0m\u001b[1;33m:\u001b[0m\u001b[1;33m\u001b[0m\u001b[1;33m\u001b[0m\u001b[0m\n\u001b[1;32m--> 433\u001b[1;33m             \u001b[0mself\u001b[0m\u001b[1;33m.\u001b[0m\u001b[0mpredictor\u001b[0m \u001b[1;33m=\u001b[0m \u001b[0mpredictor\u001b[0m \u001b[1;32mor\u001b[0m \u001b[0mself\u001b[0m\u001b[1;33m.\u001b[0m\u001b[0m_smart_load\u001b[0m\u001b[1;33m(\u001b[0m\u001b[1;34m\"predictor\"\u001b[0m\u001b[1;33m)\u001b[0m\u001b[1;33m(\u001b[0m\u001b[0moverrides\u001b[0m\u001b[1;33m=\u001b[0m\u001b[0margs\u001b[0m\u001b[1;33m,\u001b[0m \u001b[0m_callbacks\u001b[0m\u001b[1;33m=\u001b[0m\u001b[0mself\u001b[0m\u001b[1;33m.\u001b[0m\u001b[0mcallbacks\u001b[0m\u001b[1;33m)\u001b[0m\u001b[1;33m\u001b[0m\u001b[1;33m\u001b[0m\u001b[0m\n\u001b[0m\u001b[0;32m    434\u001b[0m             \u001b[0mself\u001b[0m\u001b[1;33m.\u001b[0m\u001b[0mpredictor\u001b[0m\u001b[1;33m.\u001b[0m\u001b[0msetup_model\u001b[0m\u001b[1;33m(\u001b[0m\u001b[0mmodel\u001b[0m\u001b[1;33m=\u001b[0m\u001b[0mself\u001b[0m\u001b[1;33m.\u001b[0m\u001b[0mmodel\u001b[0m\u001b[1;33m,\u001b[0m \u001b[0mverbose\u001b[0m\u001b[1;33m=\u001b[0m\u001b[0mis_cli\u001b[0m\u001b[1;33m)\u001b[0m\u001b[1;33m\u001b[0m\u001b[1;33m\u001b[0m\u001b[0m\n\u001b[0;32m    435\u001b[0m         \u001b[1;32melse\u001b[0m\u001b[1;33m:\u001b[0m  \u001b[1;31m# only update args if predictor is already setup\u001b[0m\u001b[1;33m\u001b[0m\u001b[1;33m\u001b[0m\u001b[0m\n",
      "\u001b[1;32m~\\anaconda3\\lib\\site-packages\\ultralytics\\engine\\model.py\u001b[0m in \u001b[0;36m_smart_load\u001b[1;34m(self, key)\u001b[0m\n\u001b[0;32m    809\u001b[0m             \u001b[0mname\u001b[0m \u001b[1;33m=\u001b[0m \u001b[0mself\u001b[0m\u001b[1;33m.\u001b[0m\u001b[0m__class__\u001b[0m\u001b[1;33m.\u001b[0m\u001b[0m__name__\u001b[0m\u001b[1;33m\u001b[0m\u001b[1;33m\u001b[0m\u001b[0m\n\u001b[0;32m    810\u001b[0m             \u001b[0mmode\u001b[0m \u001b[1;33m=\u001b[0m \u001b[0minspect\u001b[0m\u001b[1;33m.\u001b[0m\u001b[0mstack\u001b[0m\u001b[1;33m(\u001b[0m\u001b[1;33m)\u001b[0m\u001b[1;33m[\u001b[0m\u001b[1;36m1\u001b[0m\u001b[1;33m]\u001b[0m\u001b[1;33m[\u001b[0m\u001b[1;36m3\u001b[0m\u001b[1;33m]\u001b[0m  \u001b[1;31m# get the function name.\u001b[0m\u001b[1;33m\u001b[0m\u001b[1;33m\u001b[0m\u001b[0m\n\u001b[1;32m--> 811\u001b[1;33m             raise NotImplementedError(\n\u001b[0m\u001b[0;32m    812\u001b[0m                 \u001b[0memojis\u001b[0m\u001b[1;33m(\u001b[0m\u001b[1;34mf\"WARNING ⚠️ '{name}' model does not support '{mode}' mode for '{self.task}' task yet.\"\u001b[0m\u001b[1;33m)\u001b[0m\u001b[1;33m\u001b[0m\u001b[1;33m\u001b[0m\u001b[0m\n\u001b[0;32m    813\u001b[0m             ) from e\n",
      "\u001b[1;31mNotImplementedError\u001b[0m: WARNING  'YOLOv10' model does not support 'predict' mode for 'None' task yet."
     ]
    }
   ],
   "source": [
    "yolov_model1.predict(source= path ,save_txt=True ,save=True,exist_ok=True)"
   ]
  },
  {
   "cell_type": "code",
   "execution_count": null,
   "id": "b43c60e1-5e4e-4f01-a9a5-29ba89e0bea1",
   "metadata": {},
   "outputs": [],
   "source": [
    "yolov_model2.predict(source= path ,save_txt=True ,save=True,exist_ok=True)"
   ]
  },
  {
   "cell_type": "raw",
   "id": "012779b6-65e3-4e2b-9360-d9d40e0d1909",
   "metadata": {
    "tags": []
   },
   "source": [
    "Сабминт"
   ]
  },
  {
   "cell_type": "code",
   "execution_count": null,
   "id": "e8729214-9007-4c76-8c8f-54711d0f1b21",
   "metadata": {},
   "outputs": [],
   "source": []
  },
  {
   "cell_type": "code",
   "execution_count": null,
   "id": "d93a81f4-3281-45f7-afc3-64a82ceb2b43",
   "metadata": {},
   "outputs": [],
   "source": [
    "path = '/content/drive/MyDrive/2/test/images'"
   ]
  },
  {
   "cell_type": "code",
   "execution_count": null,
   "id": "ae7a40b5-0d1d-4f14-bd43-08c9aff6a204",
   "metadata": {},
   "outputs": [],
   "source": [
    "model = YOLOv10(\"/content/drive/MyDrive/2/best.pt\")"
   ]
  },
  {
   "cell_type": "code",
   "execution_count": null,
   "id": "9e3bbafd-2ee8-42ac-b1da-a3ea166ab129",
   "metadata": {},
   "outputs": [],
   "source": [
    "model.predict(source= path ,save_txt=True ,save=True,exist_ok=True)"
   ]
  },
  {
   "cell_type": "code",
   "execution_count": null,
   "id": "42152e1b-4473-4a42-9556-3ec6f60f123f",
   "metadata": {},
   "outputs": [],
   "source": [
    "sub=pd.DataFrame(columns=['filename', 'class_id', 'rel_x', 'rel_y', 'width', 'height'])\n",
    "IMAGE_PATH = '/content/..'\n",
    "images=os.listdir(IMAGE_PATH)\n",
    "for filename in images:\n",
    "   # здесь предсказания модели по загруженному файлу\n",
    "    sub.loc[len(sub.index)]=[filename, ,,,]\n",
    "sub.to_csv('submission.csv', index = False,sep=';')"
   ]
  }
 ],
 "metadata": {
  "kernelspec": {
   "display_name": "Python 3 (ipykernel)",
   "language": "python",
   "name": "python3"
  },
  "language_info": {
   "codemirror_mode": {
    "name": "ipython",
    "version": 3
   },
   "file_extension": ".py",
   "mimetype": "text/x-python",
   "name": "python",
   "nbconvert_exporter": "python",
   "pygments_lexer": "ipython3",
   "version": "3.9.13"
  }
 },
 "nbformat": 4,
 "nbformat_minor": 5
}
